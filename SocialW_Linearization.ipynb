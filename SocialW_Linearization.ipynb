{
 "cells": [
  {
   "cell_type": "code",
   "execution_count": 1,
   "metadata": {},
   "outputs": [
    {
     "name": "stderr",
     "output_type": "stream",
     "text": [
      "\n",
      "Bad key \"text.kerning_factor\" on line 4 in\n",
      "C:\\Users\\Edward\\Anaconda\\lib\\site-packages\\matplotlib\\mpl-data\\stylelib\\_classic_test_patch.mplstyle.\n",
      "You probably need to get an updated matplotlibrc file from\n",
      "http://github.com/matplotlib/matplotlib/blob/master/matplotlibrc.template\n",
      "or from the matplotlib source distribution\n"
     ]
    }
   ],
   "source": [
    "import os\n",
    "import numpy as np\n",
    "import pandas as pd\n",
    "%reload_ext autoreload\n",
    "%autoreload 2\n",
    "from track_linearization import make_track_graph, plot_track_graph\n",
    "from track_linearization import get_linearized_position\n",
    "import matplotlib.pyplot as plt"
   ]
  },
  {
   "cell_type": "code",
   "execution_count": 2,
   "metadata": {},
   "outputs": [],
   "source": [
    "os.chdir('L:/Social W Behavioral Data/Cohort-7/01-02-2023')\n",
    "os.listdir()\n",
    "node_positions=np.load('log01-02-2023(1-XFK4-XFK1)-Rat1.npy')"
   ]
  },
  {
   "cell_type": "code",
   "execution_count": 3,
   "metadata": {},
   "outputs": [],
   "source": [
    "position=pd.read_csv('sample_nan.csv')\n"
   ]
  },
  {
   "cell_type": "code",
   "execution_count": null,
   "metadata": {},
   "outputs": [],
   "source": [
    "cohort='Cohort-6'\n",
    "dataFolder='L:/Social W Behavioral Data/'+cohort\n",
    "os.chdir(dataFolder)\n",
    "os.listdir()\n",
    "\n",
    "path = dataFolder\n",
    "for root, dirs, files in os.walk(path):\n",
    "    for _file in files:\n",
    "           #print(_file)\n",
    "        if _file.endswith(\".npy\"):\n",
    "            sessionVideo=root+'/'+_file\n",
    "            print(sessionVideo)\n",
    "            \n",
    "            if os.path.isfile(sessionVideo.replace(\".mp4\",\".jpeg\"))==False:\n",
    "                vidcap = cv2.VideoCapture(sessionVideo)\n",
    "                success,image = vidcap.read(1)\n",
    "                cv2.imwrite(sessionVideo.replace(\".mp4\",\".jpeg\"), image)     # save frame as JPEG file    \n",
    "            frame=sessionVideo.replace(\".mp4\",\".jpeg\")  \n",
    "                \n",
    "            frame_rat1=frame.replace(\".1.jpeg\",\"-Rat1.npy\")\n",
    "            frame_rat2=frame.replace(\".1.jpeg\",\"-Rat2.npy\")"
   ]
  },
  {
   "cell_type": "code",
   "execution_count": 4,
   "metadata": {},
   "outputs": [],
   "source": [
    "nodes_positions=np.load('log01-02-2023(1-XFK4-XFK1)-Rat1.npy')\n",
    "edges = [\n",
    "    (0, 1),  # connects node 0 and node 1\n",
    "    (1, 2),  # connects node 0 and node 3\n",
    "    (2, 3),\n",
    "    (2,4),\n",
    "    (4,5),# connects node 1 and node 2\n",
    "]\n",
    "\n",
    "track_graph = make_track_graph(node_positions, edges)\n",
    "\n"
   ]
  },
  {
   "cell_type": "code",
   "execution_count": 5,
   "metadata": {},
   "outputs": [],
   "source": [
    "position_linear=get_linearized_position(position=position.values, track_graph=track_graph)\n",
    "position_linear.to_csv('position_linear_nan.csv',index=False)\n"
   ]
  },
  {
   "cell_type": "code",
   "execution_count": 6,
   "metadata": {},
   "outputs": [
    {
     "name": "stdout",
     "output_type": "stream",
     "text": [
      "Help on function get_linearized_position in module track_linearization.core:\n",
      "\n",
      "get_linearized_position(position, track_graph, edge_order=None, edge_spacing=0, use_HMM=False, route_euclidean_distance_scaling=1.0, sensor_std_dev=5.0, diagonal_bias=0.1, edge_map=None)\n",
      "    Linearize 2D position based on graph representation of track.\n",
      "    \n",
      "    Parameters\n",
      "    ----------\n",
      "    position : numpy.ndarray, shape (n_time, 2)\n",
      "        2D position of the animal.\n",
      "    track_graph : networkx.Graph\n",
      "        Graph representation of the 2D track.\n",
      "    edge_order : numpy.ndarray, shape (n_edges, 2), optional\n",
      "        Controls order of track segments in 1D position. Specify as edges as\n",
      "        node pairs such as [(node1, node2), (node2, node3)]\n",
      "    edge_spacing : float or numpy.ndarray, shape (n_edges - 1,), optional\n",
      "        Controls the spacing between track segments in 1D position\n",
      "    use_HMM : bool\n",
      "        If True, then uses HMM to classify the edge the animal is on.\n",
      "        If False, then finds the closest edge (using euclidean distance).\n",
      "    route_euclidean_distance_scaling : float, optional\n",
      "        Used with HMM. How much to prefer route distances between successive\n",
      "        time points that are closer to the euclidean distance. Smaller\n",
      "        numbers mean the route distance is more likely to be close to the\n",
      "        euclidean distance. This favors less jumps. Larger numbers favor\n",
      "        more jumps.\n",
      "    sensor_std_dev : float, optional\n",
      "        Used with HMM. The variability of the sensor used to track position\n",
      "    diagonal_bias : float between 0.0 and 1.0, optional\n",
      "        Used with HMM. Bigger values mean the linear position is more likely\n",
      "        to stick to the current track segment.\n",
      "    edge_map : None or dict\n",
      "        Maps one edge to another before linearization.\n",
      "    \n",
      "    Returns\n",
      "    -------\n",
      "    position_df : pandas.DataFrame, shape (n_time, 5)\n",
      "        'linear_position' - linear position of animal\n",
      "        'track_segment_id' - the edge the animal is on\n",
      "        'projected_x_position' - the 2D position projected to the track_graph\n",
      "        'projected_y_position' - the 2D position projected to the track_graph\n",
      "\n"
     ]
    }
   ],
   "source": [
    "                                                                                 \n",
    "help(get_linearized_position)\n"
   ]
  }
 ],
 "metadata": {
  "kernelspec": {
   "display_name": "Python 3",
   "language": "python",
   "name": "python3"
  },
  "language_info": {
   "codemirror_mode": {
    "name": "ipython",
    "version": 3
   },
   "file_extension": ".py",
   "mimetype": "text/x-python",
   "name": "python",
   "nbconvert_exporter": "python",
   "pygments_lexer": "ipython3",
   "version": "3.7.3"
  }
 },
 "nbformat": 4,
 "nbformat_minor": 2
}
