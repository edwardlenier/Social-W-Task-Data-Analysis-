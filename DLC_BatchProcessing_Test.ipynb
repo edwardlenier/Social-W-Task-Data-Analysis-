{
 "cells": [
  {
   "cell_type": "code",
   "execution_count": 1,
   "id": "dded2bec",
   "metadata": {},
   "outputs": [
    {
     "name": "stdout",
     "output_type": "stream",
     "text": [
      "Loading DLC 2.3.0...\n"
     ]
    },
    {
     "name": "stderr",
     "output_type": "stream",
     "text": [
      "C:\\Users\\Edward\\Anaconda\\envs\\DEEPLABCUT\\lib\\site-packages\\qtpy\\__init__.py:267: RuntimeWarning: Selected binding \"pyside6\" could not be found, using \"pyqt5\"\n",
      "  warnings.warn('Selected binding \"{}\" could not be found, '\n"
     ]
    },
    {
     "name": "stdout",
     "output_type": "stream",
     "text": [
      "DLC loaded in light mode; you cannot use any GUI (labeling, relabeling and standalone GUI)\n"
     ]
    }
   ],
   "source": [
    "from PyQt5.QtWidgets import QApplication, QLabel\n",
    "\n",
    "import deeplabcut"
   ]
  },
  {
   "cell_type": "code",
   "execution_count": 4,
   "id": "d03c95a2",
   "metadata": {},
   "outputs": [
    {
     "data": {
      "text/plain": [
       "0"
      ]
     },
     "execution_count": 4,
     "metadata": {},
     "output_type": "execute_result"
    }
   ],
   "source": [
    "from PyQt5.QtWidgets import QApplication, QLabel\n",
    "\n",
    "app = QApplication([])\n",
    "label = QLabel(\"Hello World!\")\n",
    "label.show()\n",
    "\n",
    "app.exec_()"
   ]
  },
  {
   "cell_type": "code",
   "execution_count": 2,
   "id": "36228df7",
   "metadata": {},
   "outputs": [],
   "source": [
    "# Loading example data set:\n",
    "import os\n",
    "# Note that parameters of this project can be seen at: *openfield-Pranav-2018-10-30/config.yaml*\n",
    "from pathlib import Path"
   ]
  },
  {
   "cell_type": "code",
   "execution_count": 3,
   "id": "f0253162",
   "metadata": {},
   "outputs": [
    {
     "data": {
      "text/plain": [
       "'G:\\\\My Drive\\\\SocialW_test1-Edward-2022-11-29\\\\config.yaml'"
      ]
     },
     "execution_count": 3,
     "metadata": {},
     "output_type": "execute_result"
    }
   ],
   "source": [
    "ProjectFolderName = 'SocialW_test1-Edward-2022-11-29'\n",
    "cohort='Cohort-6\\\\'\n",
    "VideoType = '.mp4' \n",
    "\n",
    "#don't edit these:\n",
    "videofile_path = 'G:\\\\My Drive\\\\'+ProjectFolderName+'\\\\videos\\\\'+cohort #Enter the list of videos or folder to analyze.\n",
    "\n",
    "\n",
    "#This creates a path variable that links to your google drive copy\n",
    "#No need to edit this, as you set it up before: \n",
    "path_config_file = 'G:\\\\My Drive\\\\SocialW_test1-Edward-2022-11-29\\\\config.yaml'\n",
    "path_config_file\n"
   ]
  },
  {
   "cell_type": "code",
   "execution_count": null,
   "id": "38726409",
   "metadata": {},
   "outputs": [
    {
     "name": "stdout",
     "output_type": "stream",
     "text": [
      "Loop over dirs and files:\n",
      "G:\\My Drive\\SocialW_test1-Edward-2022-11-29\\videos\\Cohort-6\\12-21-2022\\log12-21-2022(6-XFK4-XFK2).1.mp4\n",
      "Using snapshot-215000 for model G:\\My Drive\\SocialW_test1-Edward-2022-11-29\\dlc-models\\iteration-0\\SocialW_test1Nov29-trainset95shuffle1\n"
     ]
    },
    {
     "name": "stderr",
     "output_type": "stream",
     "text": [
      "C:\\Users\\Edward\\Anaconda\\envs\\DEEPLABCUT\\lib\\site-packages\\tensorflow\\python\\keras\\engine\\base_layer_v1.py:1694: UserWarning: `layer.apply` is deprecated and will be removed in a future version. Please use `layer.__call__` method instead.\n",
      "  warnings.warn('`layer.apply` is deprecated and '\n"
     ]
    },
    {
     "name": "stdout",
     "output_type": "stream",
     "text": [
      "Activating extracting of PAFs\n",
      "Starting to analyze %  G:\\My Drive\\SocialW_test1-Edward-2022-11-29\\videos\\Cohort-6\\12-21-2022\\log12-21-2022(6-XFK4-XFK2).1.mp4\n",
      "Loading  G:\\My Drive\\SocialW_test1-Edward-2022-11-29\\videos\\Cohort-6\\12-21-2022\\log12-21-2022(6-XFK4-XFK2).1.mp4\n",
      "G:\\My Drive\\SocialW_test1-Edward-2022-11-29\\videos\\Cohort-6\\11-11-2022\\log11-11-2022(6-XFK4-XFK1).1.mp4\n",
      "Using snapshot-215000 for model G:\\My Drive\\SocialW_test1-Edward-2022-11-29\\dlc-models\\iteration-0\\SocialW_test1Nov29-trainset95shuffle1\n"
     ]
    },
    {
     "name": "stderr",
     "output_type": "stream",
     "text": [
      "C:\\Users\\Edward\\Anaconda\\envs\\DEEPLABCUT\\lib\\site-packages\\tensorflow\\python\\keras\\engine\\base_layer_v1.py:1694: UserWarning: `layer.apply` is deprecated and will be removed in a future version. Please use `layer.__call__` method instead.\n",
      "  warnings.warn('`layer.apply` is deprecated and '\n"
     ]
    },
    {
     "name": "stdout",
     "output_type": "stream",
     "text": [
      "Activating extracting of PAFs\n",
      "Starting to analyze %  G:\\My Drive\\SocialW_test1-Edward-2022-11-29\\videos\\Cohort-6\\11-11-2022\\log11-11-2022(6-XFK4-XFK1).1.mp4\n",
      "Loading  G:\\My Drive\\SocialW_test1-Edward-2022-11-29\\videos\\Cohort-6\\11-11-2022\\log11-11-2022(6-XFK4-XFK1).1.mp4\n",
      "G:\\My Drive\\SocialW_test1-Edward-2022-11-29\\videos\\Cohort-6\\02-01-2023\\log02-01-2023(5-XFK1-XFK3).1.mp4\n",
      "Using snapshot-215000 for model G:\\My Drive\\SocialW_test1-Edward-2022-11-29\\dlc-models\\iteration-0\\SocialW_test1Nov29-trainset95shuffle1\n"
     ]
    },
    {
     "name": "stderr",
     "output_type": "stream",
     "text": [
      "C:\\Users\\Edward\\Anaconda\\envs\\DEEPLABCUT\\lib\\site-packages\\tensorflow\\python\\keras\\engine\\base_layer_v1.py:1694: UserWarning: `layer.apply` is deprecated and will be removed in a future version. Please use `layer.__call__` method instead.\n",
      "  warnings.warn('`layer.apply` is deprecated and '\n"
     ]
    },
    {
     "name": "stdout",
     "output_type": "stream",
     "text": [
      "Activating extracting of PAFs\n",
      "Starting to analyze %  G:\\My Drive\\SocialW_test1-Edward-2022-11-29\\videos\\Cohort-6\\02-01-2023\\log02-01-2023(5-XFK1-XFK3).1.mp4\n",
      "Video already analyzed! G:\\My Drive\\SocialW_test1-Edward-2022-11-29\\videos\\Cohort-6\\02-01-2023\\log02-01-2023(5-XFK1-XFK3).1DLC_dlcrnetms5_SocialW_test1Nov29shuffle1_215000.h5\n",
      "Using snapshot-215000 for model G:\\My Drive\\SocialW_test1-Edward-2022-11-29\\dlc-models\\iteration-0\\SocialW_test1Nov29-trainset95shuffle1\n",
      "Processing...  G:\\My Drive\\SocialW_test1-Edward-2022-11-29\\videos\\Cohort-6\\02-01-2023\\log02-01-2023(5-XFK1-XFK3).1.mp4\n",
      "Tracklets already computed G:\\My Drive\\SocialW_test1-Edward-2022-11-29\\videos\\Cohort-6\\02-01-2023\\log02-01-2023(5-XFK1-XFK3).1DLC_dlcrnetms5_SocialW_test1Nov29shuffle1_215000_el.pickle\n",
      "Set overwrite = True to overwrite.\n",
      "The tracklets were created (i.e., under the hood deeplabcut.convert_detections2tracklets was run). Now you can 'refine_tracklets' in the GUI, or run 'deeplabcut.stitch_tracklets'.\n",
      "Processing...  G:\\My Drive\\SocialW_test1-Edward-2022-11-29\\videos\\Cohort-6\\02-01-2023\\log02-01-2023(5-XFK1-XFK3).1.mp4\n",
      "G:\\My Drive\\SocialW_test1-Edward-2022-11-29\\videos\\Cohort-6\\02-02-2023\\log02-02-2023(5-XFK3-XFK1).1.mp4\n",
      "Using snapshot-215000 for model G:\\My Drive\\SocialW_test1-Edward-2022-11-29\\dlc-models\\iteration-0\\SocialW_test1Nov29-trainset95shuffle1\n"
     ]
    },
    {
     "name": "stderr",
     "output_type": "stream",
     "text": [
      "C:\\Users\\Edward\\Anaconda\\envs\\DEEPLABCUT\\lib\\site-packages\\tensorflow\\python\\keras\\engine\\base_layer_v1.py:1694: UserWarning: `layer.apply` is deprecated and will be removed in a future version. Please use `layer.__call__` method instead.\n",
      "  warnings.warn('`layer.apply` is deprecated and '\n"
     ]
    },
    {
     "name": "stdout",
     "output_type": "stream",
     "text": [
      "Activating extracting of PAFs\n",
      "Starting to analyze %  G:\\My Drive\\SocialW_test1-Edward-2022-11-29\\videos\\Cohort-6\\02-02-2023\\log02-02-2023(5-XFK3-XFK1).1.mp4\n",
      "Loading  G:\\My Drive\\SocialW_test1-Edward-2022-11-29\\videos\\Cohort-6\\02-02-2023\\log02-02-2023(5-XFK3-XFK1).1.mp4\n",
      "Duration of video [s]:  3649.48 , recorded with  29.0 fps!\n",
      "Overall # of frames:  105835  found with (before cropping) frame dimensions:  1292 964\n",
      "Starting to extract posture from the video(s) with batchsize: 8\n"
     ]
    },
    {
     "name": "stderr",
     "output_type": "stream",
     "text": [
      "  0%|          | 16/105835 [00:23<43:33:43,  1.48s/it]\n",
      "C:\\Users\\Edward\\Anaconda\\envs\\DEEPLABCUT\\lib\\site-packages\\tensorflow\\python\\keras\\engine\\base_layer_v1.py:1694: UserWarning: `layer.apply` is deprecated and will be removed in a future version. Please use `layer.__call__` method instead.\n",
      "  warnings.warn('`layer.apply` is deprecated and '\n"
     ]
    },
    {
     "name": "stdout",
     "output_type": "stream",
     "text": [
      "G:\\My Drive\\SocialW_test1-Edward-2022-11-29\\videos\\Cohort-6\\02-02-2023\\log02-02-2023(6-XFK4-XFK2).1.mp4\n",
      "Using snapshot-215000 for model G:\\My Drive\\SocialW_test1-Edward-2022-11-29\\dlc-models\\iteration-0\\SocialW_test1Nov29-trainset95shuffle1\n",
      "Activating extracting of PAFs\n",
      "Starting to analyze %  G:\\My Drive\\SocialW_test1-Edward-2022-11-29\\videos\\Cohort-6\\02-02-2023\\log02-02-2023(6-XFK4-XFK2).1.mp4\n",
      "Loading  G:\\My Drive\\SocialW_test1-Edward-2022-11-29\\videos\\Cohort-6\\02-02-2023\\log02-02-2023(6-XFK4-XFK2).1.mp4\n",
      "Duration of video [s]:  3064.17 , recorded with  29.0 fps!\n",
      "Overall # of frames:  88861  found with (before cropping) frame dimensions:  1292 964\n",
      "Starting to extract posture from the video(s) with batchsize: 8\n"
     ]
    },
    {
     "name": "stderr",
     "output_type": "stream",
     "text": [
      "  3%|▎         | 2288/88861 [56:09<35:09:35,  1.46s/it]"
     ]
    }
   ],
   "source": [
    "import os\n",
    "import os.path\n",
    "print('Loop over dirs and files:')\n",
    "path = videofile_path\n",
    "for root, dirs, files in os.walk(path):\n",
    "    for _file in files:\n",
    "           #print(_file)\n",
    "        videofile=root+'\\\\'+_file\n",
    "        import os.path\n",
    "        file=videofile.replace(\".1.h264\",\".1DLC_dlcrnetms5_SocialW_test1Nov29shuffle1_215000_el.csv\")\n",
    "        check_file=os.path.isfile(file)\n",
    "        if check_file==False:\n",
    "           \n",
    "            videofile=videofile.replace(\".h264\",\".mp4\")\n",
    "            check_video=os.path.isfile(videofile)\n",
    "            if check_video==True:\n",
    "                try:\n",
    "                    print(videofile)\n",
    "                    deeplabcut.analyze_videos(path_config_file,videofile, videotype=VideoType,save_as_csv=True)\n",
    "                except: \n",
    "                    continue \n",
    "          \n",
    "\n"
   ]
  },
  {
   "cell_type": "code",
   "execution_count": null,
   "id": "f85c0d1f",
   "metadata": {},
   "outputs": [],
   "source": [
    "videofile"
   ]
  },
  {
   "cell_type": "code",
   "execution_count": null,
   "id": "1ecf8ed1",
   "metadata": {},
   "outputs": [],
   "source": []
  }
 ],
 "metadata": {
  "kernelspec": {
   "display_name": "Python 3 (ipykernel)",
   "language": "python",
   "name": "python3"
  },
  "language_info": {
   "codemirror_mode": {
    "name": "ipython",
    "version": 3
   },
   "file_extension": ".py",
   "mimetype": "text/x-python",
   "name": "python",
   "nbconvert_exporter": "python",
   "pygments_lexer": "ipython3",
   "version": "3.8.16"
  }
 },
 "nbformat": 4,
 "nbformat_minor": 5
}
